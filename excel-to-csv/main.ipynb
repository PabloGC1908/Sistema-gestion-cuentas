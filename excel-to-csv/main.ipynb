{
 "cells": [
  {
   "cell_type": "code",
   "execution_count": 1,
   "id": "initial_id",
   "metadata": {
    "collapsed": true,
    "ExecuteTime": {
     "end_time": "2023-12-10T05:58:38.355655300Z",
     "start_time": "2023-12-10T05:58:37.602518900Z"
    }
   },
   "outputs": [],
   "source": [
    "import pandas as pd"
   ]
  },
  {
   "cell_type": "code",
   "execution_count": 2,
   "outputs": [],
   "source": [
    "archivo = 'cuentas-streaming.xlsx'"
   ],
   "metadata": {
    "collapsed": false,
    "ExecuteTime": {
     "end_time": "2023-12-10T05:58:44.370965700Z",
     "start_time": "2023-12-10T05:58:44.363396900Z"
    }
   },
   "id": "82ae292a7ed87fa0"
  },
  {
   "cell_type": "code",
   "execution_count": 5,
   "outputs": [
    {
     "data": {
      "text/plain": "                      WSPP         NUMERO             PAGO FECHA_INGRESO\n0                12oscarxs    51994096654              NaN           NaT\n1     19luis09delgado19982   582518872568              NaN           NaT\n2            1tommyduran96    19512495146              NaN           NaT\n3             22l22rvmd220    50360783005              NaN           NaT\n4                   59wffc   593996197870              NaN           NaT\n...                    ...            ...              ...           ...\n3224            WA-MX-1692  5217421114776  /transferencia1    2023-12-09\n3225            WA-MX-1693  5216692770913  /transferencia1    2023-12-09\n3226            WA-MX-1694  5212221524724  /transferencia2    2023-12-09\n3227            WA-MX-1695  5218662144719              NaN    2023-12-09\n3228            WA-MX-1696  5219984572978              NaN    2023-12-09\n\n[3229 rows x 4 columns]",
      "text/html": "<div>\n<style scoped>\n    .dataframe tbody tr th:only-of-type {\n        vertical-align: middle;\n    }\n\n    .dataframe tbody tr th {\n        vertical-align: top;\n    }\n\n    .dataframe thead th {\n        text-align: right;\n    }\n</style>\n<table border=\"1\" class=\"dataframe\">\n  <thead>\n    <tr style=\"text-align: right;\">\n      <th></th>\n      <th>WSPP</th>\n      <th>NUMERO</th>\n      <th>PAGO</th>\n      <th>FECHA_INGRESO</th>\n    </tr>\n  </thead>\n  <tbody>\n    <tr>\n      <th>0</th>\n      <td>12oscarxs</td>\n      <td>51994096654</td>\n      <td>NaN</td>\n      <td>NaT</td>\n    </tr>\n    <tr>\n      <th>1</th>\n      <td>19luis09delgado19982</td>\n      <td>582518872568</td>\n      <td>NaN</td>\n      <td>NaT</td>\n    </tr>\n    <tr>\n      <th>2</th>\n      <td>1tommyduran96</td>\n      <td>19512495146</td>\n      <td>NaN</td>\n      <td>NaT</td>\n    </tr>\n    <tr>\n      <th>3</th>\n      <td>22l22rvmd220</td>\n      <td>50360783005</td>\n      <td>NaN</td>\n      <td>NaT</td>\n    </tr>\n    <tr>\n      <th>4</th>\n      <td>59wffc</td>\n      <td>593996197870</td>\n      <td>NaN</td>\n      <td>NaT</td>\n    </tr>\n    <tr>\n      <th>...</th>\n      <td>...</td>\n      <td>...</td>\n      <td>...</td>\n      <td>...</td>\n    </tr>\n    <tr>\n      <th>3224</th>\n      <td>WA-MX-1692</td>\n      <td>5217421114776</td>\n      <td>/transferencia1</td>\n      <td>2023-12-09</td>\n    </tr>\n    <tr>\n      <th>3225</th>\n      <td>WA-MX-1693</td>\n      <td>5216692770913</td>\n      <td>/transferencia1</td>\n      <td>2023-12-09</td>\n    </tr>\n    <tr>\n      <th>3226</th>\n      <td>WA-MX-1694</td>\n      <td>5212221524724</td>\n      <td>/transferencia2</td>\n      <td>2023-12-09</td>\n    </tr>\n    <tr>\n      <th>3227</th>\n      <td>WA-MX-1695</td>\n      <td>5218662144719</td>\n      <td>NaN</td>\n      <td>2023-12-09</td>\n    </tr>\n    <tr>\n      <th>3228</th>\n      <td>WA-MX-1696</td>\n      <td>5219984572978</td>\n      <td>NaN</td>\n      <td>2023-12-09</td>\n    </tr>\n  </tbody>\n</table>\n<p>3229 rows × 4 columns</p>\n</div>"
     },
     "execution_count": 5,
     "metadata": {},
     "output_type": "execute_result"
    }
   ],
   "source": [
    "df_clientes = pd.read_excel(archivo, sheet_name='CLIENTES')\n",
    "df_clientes"
   ],
   "metadata": {
    "collapsed": false,
    "ExecuteTime": {
     "end_time": "2023-12-10T06:03:00.755833100Z",
     "start_time": "2023-12-10T06:03:00.181367800Z"
    }
   },
   "id": "76750bdbe21bd7bb"
  },
  {
   "cell_type": "code",
   "execution_count": 6,
   "outputs": [
    {
     "data": {
      "text/plain": "                      WSPP         NUMERO             PAGO FECHA_INGRESO\n0                12oscarxs    51994096654               ND           NaT\n1     19luis09delgado19982   582518872568               ND           NaT\n2            1tommyduran96    19512495146               ND           NaT\n3             22l22rvmd220    50360783005               ND           NaT\n4                   59wffc   593996197870               ND           NaT\n...                    ...            ...              ...           ...\n3224            WA-MX-1692  5217421114776  /transferencia1    2023-12-09\n3225            WA-MX-1693  5216692770913  /transferencia1    2023-12-09\n3226            WA-MX-1694  5212221524724  /transferencia2    2023-12-09\n3227            WA-MX-1695  5218662144719               ND    2023-12-09\n3228            WA-MX-1696  5219984572978               ND    2023-12-09\n\n[3229 rows x 4 columns]",
      "text/html": "<div>\n<style scoped>\n    .dataframe tbody tr th:only-of-type {\n        vertical-align: middle;\n    }\n\n    .dataframe tbody tr th {\n        vertical-align: top;\n    }\n\n    .dataframe thead th {\n        text-align: right;\n    }\n</style>\n<table border=\"1\" class=\"dataframe\">\n  <thead>\n    <tr style=\"text-align: right;\">\n      <th></th>\n      <th>WSPP</th>\n      <th>NUMERO</th>\n      <th>PAGO</th>\n      <th>FECHA_INGRESO</th>\n    </tr>\n  </thead>\n  <tbody>\n    <tr>\n      <th>0</th>\n      <td>12oscarxs</td>\n      <td>51994096654</td>\n      <td>ND</td>\n      <td>NaT</td>\n    </tr>\n    <tr>\n      <th>1</th>\n      <td>19luis09delgado19982</td>\n      <td>582518872568</td>\n      <td>ND</td>\n      <td>NaT</td>\n    </tr>\n    <tr>\n      <th>2</th>\n      <td>1tommyduran96</td>\n      <td>19512495146</td>\n      <td>ND</td>\n      <td>NaT</td>\n    </tr>\n    <tr>\n      <th>3</th>\n      <td>22l22rvmd220</td>\n      <td>50360783005</td>\n      <td>ND</td>\n      <td>NaT</td>\n    </tr>\n    <tr>\n      <th>4</th>\n      <td>59wffc</td>\n      <td>593996197870</td>\n      <td>ND</td>\n      <td>NaT</td>\n    </tr>\n    <tr>\n      <th>...</th>\n      <td>...</td>\n      <td>...</td>\n      <td>...</td>\n      <td>...</td>\n    </tr>\n    <tr>\n      <th>3224</th>\n      <td>WA-MX-1692</td>\n      <td>5217421114776</td>\n      <td>/transferencia1</td>\n      <td>2023-12-09</td>\n    </tr>\n    <tr>\n      <th>3225</th>\n      <td>WA-MX-1693</td>\n      <td>5216692770913</td>\n      <td>/transferencia1</td>\n      <td>2023-12-09</td>\n    </tr>\n    <tr>\n      <th>3226</th>\n      <td>WA-MX-1694</td>\n      <td>5212221524724</td>\n      <td>/transferencia2</td>\n      <td>2023-12-09</td>\n    </tr>\n    <tr>\n      <th>3227</th>\n      <td>WA-MX-1695</td>\n      <td>5218662144719</td>\n      <td>ND</td>\n      <td>2023-12-09</td>\n    </tr>\n    <tr>\n      <th>3228</th>\n      <td>WA-MX-1696</td>\n      <td>5219984572978</td>\n      <td>ND</td>\n      <td>2023-12-09</td>\n    </tr>\n  </tbody>\n</table>\n<p>3229 rows × 4 columns</p>\n</div>"
     },
     "execution_count": 6,
     "metadata": {},
     "output_type": "execute_result"
    }
   ],
   "source": [
    "df_clientes[\"PAGO\"].fillna(\"ND\", inplace=True)\n",
    "df_clientes"
   ],
   "metadata": {
    "collapsed": false,
    "ExecuteTime": {
     "end_time": "2023-12-10T06:03:07.835580700Z",
     "start_time": "2023-12-10T06:03:07.794566600Z"
    }
   },
   "id": "1c2fcc5de22ddc45"
  },
  {
   "cell_type": "code",
   "execution_count": 7,
   "outputs": [
    {
     "data": {
      "text/plain": "                      WSPP         NUMERO             PAGO FECHA_INGRESO\n0                12oscarxs    51994096654               ND    2023-06-06\n1     19luis09delgado19982   582518872568               ND    2023-06-06\n2            1tommyduran96    19512495146               ND    2023-06-06\n3             22l22rvmd220    50360783005               ND    2023-06-06\n4                   59wffc   593996197870               ND    2023-06-06\n...                    ...            ...              ...           ...\n3224            WA-MX-1692  5217421114776  /transferencia1    2023-12-09\n3225            WA-MX-1693  5216692770913  /transferencia1    2023-12-09\n3226            WA-MX-1694  5212221524724  /transferencia2    2023-12-09\n3227            WA-MX-1695  5218662144719               ND    2023-12-09\n3228            WA-MX-1696  5219984572978               ND    2023-12-09\n\n[3229 rows x 4 columns]",
      "text/html": "<div>\n<style scoped>\n    .dataframe tbody tr th:only-of-type {\n        vertical-align: middle;\n    }\n\n    .dataframe tbody tr th {\n        vertical-align: top;\n    }\n\n    .dataframe thead th {\n        text-align: right;\n    }\n</style>\n<table border=\"1\" class=\"dataframe\">\n  <thead>\n    <tr style=\"text-align: right;\">\n      <th></th>\n      <th>WSPP</th>\n      <th>NUMERO</th>\n      <th>PAGO</th>\n      <th>FECHA_INGRESO</th>\n    </tr>\n  </thead>\n  <tbody>\n    <tr>\n      <th>0</th>\n      <td>12oscarxs</td>\n      <td>51994096654</td>\n      <td>ND</td>\n      <td>2023-06-06</td>\n    </tr>\n    <tr>\n      <th>1</th>\n      <td>19luis09delgado19982</td>\n      <td>582518872568</td>\n      <td>ND</td>\n      <td>2023-06-06</td>\n    </tr>\n    <tr>\n      <th>2</th>\n      <td>1tommyduran96</td>\n      <td>19512495146</td>\n      <td>ND</td>\n      <td>2023-06-06</td>\n    </tr>\n    <tr>\n      <th>3</th>\n      <td>22l22rvmd220</td>\n      <td>50360783005</td>\n      <td>ND</td>\n      <td>2023-06-06</td>\n    </tr>\n    <tr>\n      <th>4</th>\n      <td>59wffc</td>\n      <td>593996197870</td>\n      <td>ND</td>\n      <td>2023-06-06</td>\n    </tr>\n    <tr>\n      <th>...</th>\n      <td>...</td>\n      <td>...</td>\n      <td>...</td>\n      <td>...</td>\n    </tr>\n    <tr>\n      <th>3224</th>\n      <td>WA-MX-1692</td>\n      <td>5217421114776</td>\n      <td>/transferencia1</td>\n      <td>2023-12-09</td>\n    </tr>\n    <tr>\n      <th>3225</th>\n      <td>WA-MX-1693</td>\n      <td>5216692770913</td>\n      <td>/transferencia1</td>\n      <td>2023-12-09</td>\n    </tr>\n    <tr>\n      <th>3226</th>\n      <td>WA-MX-1694</td>\n      <td>5212221524724</td>\n      <td>/transferencia2</td>\n      <td>2023-12-09</td>\n    </tr>\n    <tr>\n      <th>3227</th>\n      <td>WA-MX-1695</td>\n      <td>5218662144719</td>\n      <td>ND</td>\n      <td>2023-12-09</td>\n    </tr>\n    <tr>\n      <th>3228</th>\n      <td>WA-MX-1696</td>\n      <td>5219984572978</td>\n      <td>ND</td>\n      <td>2023-12-09</td>\n    </tr>\n  </tbody>\n</table>\n<p>3229 rows × 4 columns</p>\n</div>"
     },
     "execution_count": 7,
     "metadata": {},
     "output_type": "execute_result"
    }
   ],
   "source": [
    "df_clientes[\"FECHA_INGRESO\"] = df_clientes[\"FECHA_INGRESO\"].fillna(\"2023-06-06\")\n",
    "df_clientes"
   ],
   "metadata": {
    "collapsed": false,
    "ExecuteTime": {
     "end_time": "2023-12-10T06:03:12.513803Z",
     "start_time": "2023-12-10T06:03:12.474400700Z"
    }
   },
   "id": "504158ee567d0f5e"
  },
  {
   "cell_type": "code",
   "execution_count": 19,
   "outputs": [
    {
     "data": {
      "text/plain": "          FECHA                                   PROVEEDOR         TIPO  \\\n0           NaT                                       CLARO  PRIME VIDEO   \n1           NaT                                       03|28  PRIME VIDEO   \n2           NaT                                       06|28  PRIME VIDEO   \n3    2023-07-19   PAIS = PE | PLAN = BRONCE HD, LIGA 1 MAX|   DIRECTV GO   \n4           NaT                                        FLOW       DISNEY   \n...         ...                                         ...          ...   \n4697 2023-12-01                                     DIRECTV         STAR   \n4698 2023-12-01                                     DIRECTV       DISNEY   \n4699 2023-12-01                                     DIRECTV       DISNEY   \n4700 2023-12-01                                     DIRECTV       DISNEY   \n4701 2023-12-01                                     DIRECTV       DISNEY   \n\n                               CORREO       CONTRA    PERFIL       USUARIO  \\\n0          Sandra.Wells@skyfallon.com  Nasfadb0611        P2  oscarcantosc   \n1         Dakota.Walker@skyfallon.com  cuenta12345  COMPLETA        Elimar   \n2     Jessica.Frederick@skyfallon.com  Nasdhbs1711        P1    WA-MX-1048   \n3         juantasayco_730@hotmail.com   Virus1200@  COMPLETA     WA-PE-712   \n4            Tina.Black@skyfallon.com    Nasha3011        P1     WA-MX-827   \n...                               ...          ...       ...           ...   \n4697       Greg.Bonilla@skyfallon.com  cuenta12345        P1           NaN   \n4698       Greg.Bonilla@skyfallon.com  cuenta12345        P2           NaN   \n4699       Greg.Bonilla@skyfallon.com  cuenta12345        P3           NaN   \n4700       Greg.Bonilla@skyfallon.com  cuenta12345        P4           NaN   \n4701       Greg.Bonilla@skyfallon.com  cuenta12345        P5           NaN   \n\n     VENCIMIENTO   ESTADO        NUMERO PAIS   PAGO         OBSERVACIÓN  \n0     2023-11-19  Vencida  5.939589e+11   PE      0         NO RENOVARA  \n1     2023-11-24  Vencida  5.842425e+11   PE      0  Le envie mensaje 2  \n2     2023-11-25  Vencida  5.215625e+12   MX      0         NO RENOVARA  \n3     2023-11-28  Vencida  5.199192e+10   PE  /yape         NO RENOVARA  \n4     2023-11-28  Vencida  5.216563e+12   MX      0  Le envie mensaje 2  \n...          ...      ...           ...  ...    ...                 ...  \n4697         NaT  Vencida           NaN  NaN    NaN                 NaN  \n4698         NaT  Vencida           NaN  NaN    NaN                 NaN  \n4699         NaT  Vencida           NaN  NaN    NaN                 NaN  \n4700         NaT  Vencida           NaN  NaN    NaN                 NaN  \n4701         NaT  Vencida           NaN  NaN    NaN                 NaN  \n\n[4702 rows x 13 columns]",
      "text/html": "<div>\n<style scoped>\n    .dataframe tbody tr th:only-of-type {\n        vertical-align: middle;\n    }\n\n    .dataframe tbody tr th {\n        vertical-align: top;\n    }\n\n    .dataframe thead th {\n        text-align: right;\n    }\n</style>\n<table border=\"1\" class=\"dataframe\">\n  <thead>\n    <tr style=\"text-align: right;\">\n      <th></th>\n      <th>FECHA</th>\n      <th>PROVEEDOR</th>\n      <th>TIPO</th>\n      <th>CORREO</th>\n      <th>CONTRA</th>\n      <th>PERFIL</th>\n      <th>USUARIO</th>\n      <th>VENCIMIENTO</th>\n      <th>ESTADO</th>\n      <th>NUMERO</th>\n      <th>PAIS</th>\n      <th>PAGO</th>\n      <th>OBSERVACIÓN</th>\n    </tr>\n  </thead>\n  <tbody>\n    <tr>\n      <th>0</th>\n      <td>NaT</td>\n      <td>CLARO</td>\n      <td>PRIME VIDEO</td>\n      <td>Sandra.Wells@skyfallon.com</td>\n      <td>Nasfadb0611</td>\n      <td>P2</td>\n      <td>oscarcantosc</td>\n      <td>2023-11-19</td>\n      <td>Vencida</td>\n      <td>5.939589e+11</td>\n      <td>PE</td>\n      <td>0</td>\n      <td>NO RENOVARA</td>\n    </tr>\n    <tr>\n      <th>1</th>\n      <td>NaT</td>\n      <td>03|28</td>\n      <td>PRIME VIDEO</td>\n      <td>Dakota.Walker@skyfallon.com</td>\n      <td>cuenta12345</td>\n      <td>COMPLETA</td>\n      <td>Elimar</td>\n      <td>2023-11-24</td>\n      <td>Vencida</td>\n      <td>5.842425e+11</td>\n      <td>PE</td>\n      <td>0</td>\n      <td>Le envie mensaje 2</td>\n    </tr>\n    <tr>\n      <th>2</th>\n      <td>NaT</td>\n      <td>06|28</td>\n      <td>PRIME VIDEO</td>\n      <td>Jessica.Frederick@skyfallon.com</td>\n      <td>Nasdhbs1711</td>\n      <td>P1</td>\n      <td>WA-MX-1048</td>\n      <td>2023-11-25</td>\n      <td>Vencida</td>\n      <td>5.215625e+12</td>\n      <td>MX</td>\n      <td>0</td>\n      <td>NO RENOVARA</td>\n    </tr>\n    <tr>\n      <th>3</th>\n      <td>2023-07-19</td>\n      <td>PAIS = PE | PLAN = BRONCE HD, LIGA 1 MAX|</td>\n      <td>DIRECTV GO</td>\n      <td>juantasayco_730@hotmail.com</td>\n      <td>Virus1200@</td>\n      <td>COMPLETA</td>\n      <td>WA-PE-712</td>\n      <td>2023-11-28</td>\n      <td>Vencida</td>\n      <td>5.199192e+10</td>\n      <td>PE</td>\n      <td>/yape</td>\n      <td>NO RENOVARA</td>\n    </tr>\n    <tr>\n      <th>4</th>\n      <td>NaT</td>\n      <td>FLOW</td>\n      <td>DISNEY</td>\n      <td>Tina.Black@skyfallon.com</td>\n      <td>Nasha3011</td>\n      <td>P1</td>\n      <td>WA-MX-827</td>\n      <td>2023-11-28</td>\n      <td>Vencida</td>\n      <td>5.216563e+12</td>\n      <td>MX</td>\n      <td>0</td>\n      <td>Le envie mensaje 2</td>\n    </tr>\n    <tr>\n      <th>...</th>\n      <td>...</td>\n      <td>...</td>\n      <td>...</td>\n      <td>...</td>\n      <td>...</td>\n      <td>...</td>\n      <td>...</td>\n      <td>...</td>\n      <td>...</td>\n      <td>...</td>\n      <td>...</td>\n      <td>...</td>\n      <td>...</td>\n    </tr>\n    <tr>\n      <th>4697</th>\n      <td>2023-12-01</td>\n      <td>DIRECTV</td>\n      <td>STAR</td>\n      <td>Greg.Bonilla@skyfallon.com</td>\n      <td>cuenta12345</td>\n      <td>P1</td>\n      <td>NaN</td>\n      <td>NaT</td>\n      <td>Vencida</td>\n      <td>NaN</td>\n      <td>NaN</td>\n      <td>NaN</td>\n      <td>NaN</td>\n    </tr>\n    <tr>\n      <th>4698</th>\n      <td>2023-12-01</td>\n      <td>DIRECTV</td>\n      <td>DISNEY</td>\n      <td>Greg.Bonilla@skyfallon.com</td>\n      <td>cuenta12345</td>\n      <td>P2</td>\n      <td>NaN</td>\n      <td>NaT</td>\n      <td>Vencida</td>\n      <td>NaN</td>\n      <td>NaN</td>\n      <td>NaN</td>\n      <td>NaN</td>\n    </tr>\n    <tr>\n      <th>4699</th>\n      <td>2023-12-01</td>\n      <td>DIRECTV</td>\n      <td>DISNEY</td>\n      <td>Greg.Bonilla@skyfallon.com</td>\n      <td>cuenta12345</td>\n      <td>P3</td>\n      <td>NaN</td>\n      <td>NaT</td>\n      <td>Vencida</td>\n      <td>NaN</td>\n      <td>NaN</td>\n      <td>NaN</td>\n      <td>NaN</td>\n    </tr>\n    <tr>\n      <th>4700</th>\n      <td>2023-12-01</td>\n      <td>DIRECTV</td>\n      <td>DISNEY</td>\n      <td>Greg.Bonilla@skyfallon.com</td>\n      <td>cuenta12345</td>\n      <td>P4</td>\n      <td>NaN</td>\n      <td>NaT</td>\n      <td>Vencida</td>\n      <td>NaN</td>\n      <td>NaN</td>\n      <td>NaN</td>\n      <td>NaN</td>\n    </tr>\n    <tr>\n      <th>4701</th>\n      <td>2023-12-01</td>\n      <td>DIRECTV</td>\n      <td>DISNEY</td>\n      <td>Greg.Bonilla@skyfallon.com</td>\n      <td>cuenta12345</td>\n      <td>P5</td>\n      <td>NaN</td>\n      <td>NaT</td>\n      <td>Vencida</td>\n      <td>NaN</td>\n      <td>NaN</td>\n      <td>NaN</td>\n      <td>NaN</td>\n    </tr>\n  </tbody>\n</table>\n<p>4702 rows × 13 columns</p>\n</div>"
     },
     "execution_count": 19,
     "metadata": {},
     "output_type": "execute_result"
    }
   ],
   "source": [
    "df_registros = pd.read_excel(archivo, sheet_name='REGISTROS')\n",
    "df_registros"
   ],
   "metadata": {
    "collapsed": false,
    "ExecuteTime": {
     "end_time": "2023-12-07T04:53:10.224040700Z",
     "start_time": "2023-12-07T04:53:08.791361Z"
    }
   },
   "id": "bdf4ae218f352baa"
  },
  {
   "cell_type": "code",
   "execution_count": 60,
   "outputs": [
    {
     "data": {
      "text/plain": "           USUARIO      ESTADO\n0     oscarcantosc     Vencida\n1           Elimar     Vencida\n2       WA-MX-1048     Vencida\n3        WA-PE-712     Vencida\n4        WA-MX-827     Vencida\n...            ...         ...\n3264    WA-MX-1350  No vencida\n3265    WA-MX-1380  No vencida\n3266       Senying  No vencida\n3267       Senying  No vencida\n4686     WA-MX-220  No vencida\n\n[1775 rows x 2 columns]",
      "text/html": "<div>\n<style scoped>\n    .dataframe tbody tr th:only-of-type {\n        vertical-align: middle;\n    }\n\n    .dataframe tbody tr th {\n        vertical-align: top;\n    }\n\n    .dataframe thead th {\n        text-align: right;\n    }\n</style>\n<table border=\"1\" class=\"dataframe\">\n  <thead>\n    <tr style=\"text-align: right;\">\n      <th></th>\n      <th>USUARIO</th>\n      <th>ESTADO</th>\n    </tr>\n  </thead>\n  <tbody>\n    <tr>\n      <th>0</th>\n      <td>oscarcantosc</td>\n      <td>Vencida</td>\n    </tr>\n    <tr>\n      <th>1</th>\n      <td>Elimar</td>\n      <td>Vencida</td>\n    </tr>\n    <tr>\n      <th>2</th>\n      <td>WA-MX-1048</td>\n      <td>Vencida</td>\n    </tr>\n    <tr>\n      <th>3</th>\n      <td>WA-PE-712</td>\n      <td>Vencida</td>\n    </tr>\n    <tr>\n      <th>4</th>\n      <td>WA-MX-827</td>\n      <td>Vencida</td>\n    </tr>\n    <tr>\n      <th>...</th>\n      <td>...</td>\n      <td>...</td>\n    </tr>\n    <tr>\n      <th>3264</th>\n      <td>WA-MX-1350</td>\n      <td>No vencida</td>\n    </tr>\n    <tr>\n      <th>3265</th>\n      <td>WA-MX-1380</td>\n      <td>No vencida</td>\n    </tr>\n    <tr>\n      <th>3266</th>\n      <td>Senying</td>\n      <td>No vencida</td>\n    </tr>\n    <tr>\n      <th>3267</th>\n      <td>Senying</td>\n      <td>No vencida</td>\n    </tr>\n    <tr>\n      <th>4686</th>\n      <td>WA-MX-220</td>\n      <td>No vencida</td>\n    </tr>\n  </tbody>\n</table>\n<p>1775 rows × 2 columns</p>\n</div>"
     },
     "execution_count": 60,
     "metadata": {},
     "output_type": "execute_result"
    }
   ],
   "source": [
    "df_vencimientos = df_registros[[\"USUARIO\", \"ESTADO\"]].groupby(by=[\"USUARIO\"], dropna=True).head(2)\n",
    "df_vencimientos"
   ],
   "metadata": {
    "collapsed": false,
    "ExecuteTime": {
     "end_time": "2023-12-09T03:39:24.148770100Z",
     "start_time": "2023-12-09T03:39:24.120769300Z"
    }
   },
   "id": "9d5fde4f38e37d33"
  },
  {
   "cell_type": "code",
   "execution_count": 61,
   "outputs": [
    {
     "data": {
      "text/plain": "           USUARIO   ESTADO         TIPO    PERFIL\n0     oscarcantosc  Vencida  PRIME VIDEO        P2\n1           Elimar  Vencida  PRIME VIDEO  COMPLETA\n2       WA-MX-1048  Vencida  PRIME VIDEO        P1\n3        WA-PE-712  Vencida   DIRECTV GO  COMPLETA\n4        WA-MX-827  Vencida       DISNEY        P1\n...            ...      ...          ...       ...\n4697           NaN  Vencida         STAR        P1\n4698           NaN  Vencida       DISNEY        P2\n4699           NaN  Vencida       DISNEY        P3\n4700           NaN  Vencida       DISNEY        P4\n4701           NaN  Vencida       DISNEY        P5\n\n[4702 rows x 4 columns]",
      "text/html": "<div>\n<style scoped>\n    .dataframe tbody tr th:only-of-type {\n        vertical-align: middle;\n    }\n\n    .dataframe tbody tr th {\n        vertical-align: top;\n    }\n\n    .dataframe thead th {\n        text-align: right;\n    }\n</style>\n<table border=\"1\" class=\"dataframe\">\n  <thead>\n    <tr style=\"text-align: right;\">\n      <th></th>\n      <th>USUARIO</th>\n      <th>ESTADO</th>\n      <th>TIPO</th>\n      <th>PERFIL</th>\n    </tr>\n  </thead>\n  <tbody>\n    <tr>\n      <th>0</th>\n      <td>oscarcantosc</td>\n      <td>Vencida</td>\n      <td>PRIME VIDEO</td>\n      <td>P2</td>\n    </tr>\n    <tr>\n      <th>1</th>\n      <td>Elimar</td>\n      <td>Vencida</td>\n      <td>PRIME VIDEO</td>\n      <td>COMPLETA</td>\n    </tr>\n    <tr>\n      <th>2</th>\n      <td>WA-MX-1048</td>\n      <td>Vencida</td>\n      <td>PRIME VIDEO</td>\n      <td>P1</td>\n    </tr>\n    <tr>\n      <th>3</th>\n      <td>WA-PE-712</td>\n      <td>Vencida</td>\n      <td>DIRECTV GO</td>\n      <td>COMPLETA</td>\n    </tr>\n    <tr>\n      <th>4</th>\n      <td>WA-MX-827</td>\n      <td>Vencida</td>\n      <td>DISNEY</td>\n      <td>P1</td>\n    </tr>\n    <tr>\n      <th>...</th>\n      <td>...</td>\n      <td>...</td>\n      <td>...</td>\n      <td>...</td>\n    </tr>\n    <tr>\n      <th>4697</th>\n      <td>NaN</td>\n      <td>Vencida</td>\n      <td>STAR</td>\n      <td>P1</td>\n    </tr>\n    <tr>\n      <th>4698</th>\n      <td>NaN</td>\n      <td>Vencida</td>\n      <td>DISNEY</td>\n      <td>P2</td>\n    </tr>\n    <tr>\n      <th>4699</th>\n      <td>NaN</td>\n      <td>Vencida</td>\n      <td>DISNEY</td>\n      <td>P3</td>\n    </tr>\n    <tr>\n      <th>4700</th>\n      <td>NaN</td>\n      <td>Vencida</td>\n      <td>DISNEY</td>\n      <td>P4</td>\n    </tr>\n    <tr>\n      <th>4701</th>\n      <td>NaN</td>\n      <td>Vencida</td>\n      <td>DISNEY</td>\n      <td>P5</td>\n    </tr>\n  </tbody>\n</table>\n<p>4702 rows × 4 columns</p>\n</div>"
     },
     "execution_count": 61,
     "metadata": {},
     "output_type": "execute_result"
    }
   ],
   "source": [
    "df_pagos = df_registros[[\"USUARIO\", \"ESTADO\", \"TIPO\", \"PERFIL\"]]\n",
    "df_pagos    "
   ],
   "metadata": {
    "collapsed": false,
    "ExecuteTime": {
     "end_time": "2023-12-09T03:39:34.992778900Z",
     "start_time": "2023-12-09T03:39:34.963709900Z"
    }
   },
   "id": "eb72838802075772"
  },
  {
   "cell_type": "code",
   "execution_count": 65,
   "outputs": [
    {
     "data": {
      "text/plain": "           USUARIO   ESTADO         TIPO    PERFIL  PRECIO\n0     oscarcantosc  Vencida  PRIME VIDEO        P2    40.0\n1           Elimar  Vencida  PRIME VIDEO  COMPLETA    40.0\n2       WA-MX-1048  Vencida  PRIME VIDEO        P1    40.0\n3        WA-PE-712  Vencida   DIRECTV GO  COMPLETA    90.0\n4        WA-MX-827  Vencida       DISNEY        P1    40.0\n...            ...      ...          ...       ...     ...\n4697           NaN  Vencida         STAR        P1    50.0\n4698           NaN  Vencida       DISNEY        P2    40.0\n4699           NaN  Vencida       DISNEY        P3    40.0\n4700           NaN  Vencida       DISNEY        P4    40.0\n4701           NaN  Vencida       DISNEY        P5    40.0\n\n[4702 rows x 5 columns]",
      "text/html": "<div>\n<style scoped>\n    .dataframe tbody tr th:only-of-type {\n        vertical-align: middle;\n    }\n\n    .dataframe tbody tr th {\n        vertical-align: top;\n    }\n\n    .dataframe thead th {\n        text-align: right;\n    }\n</style>\n<table border=\"1\" class=\"dataframe\">\n  <thead>\n    <tr style=\"text-align: right;\">\n      <th></th>\n      <th>USUARIO</th>\n      <th>ESTADO</th>\n      <th>TIPO</th>\n      <th>PERFIL</th>\n      <th>PRECIO</th>\n    </tr>\n  </thead>\n  <tbody>\n    <tr>\n      <th>0</th>\n      <td>oscarcantosc</td>\n      <td>Vencida</td>\n      <td>PRIME VIDEO</td>\n      <td>P2</td>\n      <td>40.0</td>\n    </tr>\n    <tr>\n      <th>1</th>\n      <td>Elimar</td>\n      <td>Vencida</td>\n      <td>PRIME VIDEO</td>\n      <td>COMPLETA</td>\n      <td>40.0</td>\n    </tr>\n    <tr>\n      <th>2</th>\n      <td>WA-MX-1048</td>\n      <td>Vencida</td>\n      <td>PRIME VIDEO</td>\n      <td>P1</td>\n      <td>40.0</td>\n    </tr>\n    <tr>\n      <th>3</th>\n      <td>WA-PE-712</td>\n      <td>Vencida</td>\n      <td>DIRECTV GO</td>\n      <td>COMPLETA</td>\n      <td>90.0</td>\n    </tr>\n    <tr>\n      <th>4</th>\n      <td>WA-MX-827</td>\n      <td>Vencida</td>\n      <td>DISNEY</td>\n      <td>P1</td>\n      <td>40.0</td>\n    </tr>\n    <tr>\n      <th>...</th>\n      <td>...</td>\n      <td>...</td>\n      <td>...</td>\n      <td>...</td>\n      <td>...</td>\n    </tr>\n    <tr>\n      <th>4697</th>\n      <td>NaN</td>\n      <td>Vencida</td>\n      <td>STAR</td>\n      <td>P1</td>\n      <td>50.0</td>\n    </tr>\n    <tr>\n      <th>4698</th>\n      <td>NaN</td>\n      <td>Vencida</td>\n      <td>DISNEY</td>\n      <td>P2</td>\n      <td>40.0</td>\n    </tr>\n    <tr>\n      <th>4699</th>\n      <td>NaN</td>\n      <td>Vencida</td>\n      <td>DISNEY</td>\n      <td>P3</td>\n      <td>40.0</td>\n    </tr>\n    <tr>\n      <th>4700</th>\n      <td>NaN</td>\n      <td>Vencida</td>\n      <td>DISNEY</td>\n      <td>P4</td>\n      <td>40.0</td>\n    </tr>\n    <tr>\n      <th>4701</th>\n      <td>NaN</td>\n      <td>Vencida</td>\n      <td>DISNEY</td>\n      <td>P5</td>\n      <td>40.0</td>\n    </tr>\n  </tbody>\n</table>\n<p>4702 rows × 5 columns</p>\n</div>"
     },
     "execution_count": 65,
     "metadata": {},
     "output_type": "execute_result"
    }
   ],
   "source": [
    "precios = {\n",
    "    \"PRIME VIDEO\" : 40,\n",
    "    \"DIRECTV GO\" : 90,\n",
    "    \"DISNEY\" : 40,\n",
    "    \"NETFLIX\" : 75,\n",
    "    \"PARAMOUNT\" : 40,\n",
    "    \"SPOTIFY\" : 40,\n",
    "    \"STAR\": 50,\n",
    "    \"HBO MAX\": 40,\n",
    "    \"LIGA 1 PLAY\": 35,\n",
    "    \"IPTV\": 80,\n",
    "    \"VIX\": 40,\n",
    "    \"COMBO\": 100,\n",
    "    \"MOVISTAR TV\": 40,\n",
    "    \"CRUNCHY\": 50,\n",
    "    \"YOUTUBE\": 100,\n",
    "    \"CLARO VIDEO\": 50,\n",
    "    \"VIKI\": 35\n",
    "}\n",
    "\n",
    "def pagos(tipo_):\n",
    "    return precios.get(tipo_)\n",
    "\n",
    "for index, row in df_pagos.iterrows():\n",
    "    tipo = row[\"TIPO\"]\n",
    "    precio = pagos(tipo)\n",
    "    df_pagos.loc[index, \"PRECIO\"] = precio\n",
    "\n",
    "df_pagos"
   ],
   "metadata": {
    "collapsed": false,
    "ExecuteTime": {
     "end_time": "2023-12-09T19:00:59.541599300Z",
     "start_time": "2023-12-09T19:00:58.757898900Z"
    }
   },
   "id": "5ffd4d5fe0a239a7"
  },
  {
   "cell_type": "code",
   "execution_count": 68,
   "outputs": [
    {
     "data": {
      "text/plain": "           USUARIO         TIPO\n0     oscarcantosc  PRIME VIDEO\n1           Elimar  PRIME VIDEO\n2       WA-MX-1048  PRIME VIDEO\n3        WA-PE-712   DIRECTV GO\n4        WA-MX-827       DISNEY\n...            ...          ...\n3269       Senying      NETFLIX\n3270       Senying    PARAMOUNT\n3271       Senying         VIKI\n3272       Senying         VIKI\n4686     WA-MX-220      SPOTIFY\n\n[3272 rows x 2 columns]",
      "text/html": "<div>\n<style scoped>\n    .dataframe tbody tr th:only-of-type {\n        vertical-align: middle;\n    }\n\n    .dataframe tbody tr th {\n        vertical-align: top;\n    }\n\n    .dataframe thead th {\n        text-align: right;\n    }\n</style>\n<table border=\"1\" class=\"dataframe\">\n  <thead>\n    <tr style=\"text-align: right;\">\n      <th></th>\n      <th>USUARIO</th>\n      <th>TIPO</th>\n    </tr>\n  </thead>\n  <tbody>\n    <tr>\n      <th>0</th>\n      <td>oscarcantosc</td>\n      <td>PRIME VIDEO</td>\n    </tr>\n    <tr>\n      <th>1</th>\n      <td>Elimar</td>\n      <td>PRIME VIDEO</td>\n    </tr>\n    <tr>\n      <th>2</th>\n      <td>WA-MX-1048</td>\n      <td>PRIME VIDEO</td>\n    </tr>\n    <tr>\n      <th>3</th>\n      <td>WA-PE-712</td>\n      <td>DIRECTV GO</td>\n    </tr>\n    <tr>\n      <th>4</th>\n      <td>WA-MX-827</td>\n      <td>DISNEY</td>\n    </tr>\n    <tr>\n      <th>...</th>\n      <td>...</td>\n      <td>...</td>\n    </tr>\n    <tr>\n      <th>3269</th>\n      <td>Senying</td>\n      <td>NETFLIX</td>\n    </tr>\n    <tr>\n      <th>3270</th>\n      <td>Senying</td>\n      <td>PARAMOUNT</td>\n    </tr>\n    <tr>\n      <th>3271</th>\n      <td>Senying</td>\n      <td>VIKI</td>\n    </tr>\n    <tr>\n      <th>3272</th>\n      <td>Senying</td>\n      <td>VIKI</td>\n    </tr>\n    <tr>\n      <th>4686</th>\n      <td>WA-MX-220</td>\n      <td>SPOTIFY</td>\n    </tr>\n  </tbody>\n</table>\n<p>3272 rows × 2 columns</p>\n</div>"
     },
     "execution_count": 68,
     "metadata": {},
     "output_type": "execute_result"
    }
   ],
   "source": [
    "df_servicios = df_pagos[[\"USUARIO\", \"TIPO\"]]\n",
    "df_servicios.dropna()"
   ],
   "metadata": {
    "collapsed": false,
    "ExecuteTime": {
     "end_time": "2023-12-09T19:15:19.987807Z",
     "start_time": "2023-12-09T19:15:19.977490400Z"
    }
   },
   "id": "53021835da55cc25"
  },
  {
   "cell_type": "code",
   "execution_count": null,
   "outputs": [],
   "source": [],
   "metadata": {
    "collapsed": false
   },
   "id": "c2435833a398d6c6"
  }
 ],
 "metadata": {
  "kernelspec": {
   "display_name": "Python 3",
   "language": "python",
   "name": "python3"
  },
  "language_info": {
   "codemirror_mode": {
    "name": "ipython",
    "version": 2
   },
   "file_extension": ".py",
   "mimetype": "text/x-python",
   "name": "python",
   "nbconvert_exporter": "python",
   "pygments_lexer": "ipython2",
   "version": "2.7.6"
  }
 },
 "nbformat": 4,
 "nbformat_minor": 5
}
